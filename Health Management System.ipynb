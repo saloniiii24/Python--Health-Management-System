{
 "cells": [
  {
   "cell_type": "code",
   "execution_count": 1,
   "metadata": {},
   "outputs": [],
   "source": [
    "# Health Management System\n",
    "\n",
    "def getdate():\n",
    "    import datetime\n",
    "    return datetime.datetime.now()"
   ]
  },
  {
   "cell_type": "code",
   "execution_count": 7,
   "metadata": {},
   "outputs": [
    {
     "name": "stdout",
     "output_type": "stream",
     "text": [
      "Welcome to Agrawal's Health Management System: \n",
      "***********************************************\n",
      "\n",
      "\n",
      "Press 1 for logging and 2 for retrieving 2\n",
      "Press 1 for Saloni 2 for Niharika 3 for Kirti3\n",
      "***********************************************\n",
      "\n",
      "Enter 1 for exercise and 2 for food2\n",
      "['2021-07-28 19:13:53.233964']: bari aalu sabzi and roti\n",
      "['2021-07-28 19:15:20.299423']: cutlets - 3\n"
     ]
    }
   ],
   "source": [
    "# 3 clients - Saloni, Niharika, Kirti\n",
    "\n",
    "def log(x):\n",
    "    if x==1:\n",
    "        c=int(input(\"Enter 1 for exercise and 2 for food\"))\n",
    "        if(c==1):\n",
    "            value=input(\"Type your workout here :\\n\")\n",
    "            print(\"----------------------------------------\\n\")\n",
    "            with open(\"saloni-ex.txt\",\"a\") as f:\n",
    "                f.write(str([str(getdate())])+\": \"+value+\"\\n\")\n",
    "            print(\"Successfully Entered!\")\n",
    "        elif(c==2):\n",
    "            value = input(\"Type your meal here : \\n\")\n",
    "            print(\"----------------------------------------\\n\")\n",
    "            with open(\"saloni-food.txt\", \"a\") as f:\n",
    "                f.write(str([str(getdate())]) + \": \" + value + \"\\n\")\n",
    "            print(\"Successfully Entered!\")\n",
    "    elif(x==2):\n",
    "        c = int(input(\"Enter 1 for exercise and 2 for food\"))\n",
    "        if (c == 1):\n",
    "            value = input(\"Type your workout here : \\n\")\n",
    "            print(\"----------------------------------------\\n\")\n",
    "            with open(\"niharika-ex.txt\", \"a\") as f:\n",
    "                f.write(str([str(getdate())]) + \": \" + value + \"\\n\")\n",
    "            print(\"Successfully Entered!\")\n",
    "        elif (c == 2):\n",
    "            value = input(\"Type your meal here : \\n\")\n",
    "            print(\"----------------------------------------\\n\")\n",
    "            with open(\"niharika-food.txt\", \"a\") as f:\n",
    "                f.write(str([str(getdate())]) + \": \" + value + \"\\n\")\n",
    "            print(\"Successfully Entered!\")\n",
    "    elif(x==3):\n",
    "        c = int(input(\"Enter 1 for exercise and 2 for food\"))\n",
    "        if (c == 1):\n",
    "            value = input(\"Type your workout here : \\n\")\n",
    "            print(\"----------------------------------------\\n\")\n",
    "            with open(\"kirti-ex.txt\", \"a\") as f:\n",
    "                f.write(str([str(getdate())]) + \": \" + value + \"\\n\")\n",
    "            print(\"Successfully Entered!\")\n",
    "        elif (c == 2):\n",
    "            value = input(\"Type your meal here : \\n\")\n",
    "            print(\"----------------------------------------\\n\")\n",
    "            with open(\"kirti-food.txt\", \"a\") as f:\n",
    "                f.write(str([str(getdate())]) + \": \" + value + \"\\n\")\n",
    "            print(\"Successfully Entered!\")\n",
    "    else:\n",
    "        print(\"plz enter valid input (1(saloni),2(Niharika),3(Kirti)\")\n",
    "def retrieve(x):\n",
    "    if x==1:\n",
    "        c=int(input(\"Enter 1 for exercise and 2 for food\"))\n",
    "        if(c==1):\n",
    "            with open(\"saloni-ex.txt\") as f:\n",
    "                for i in f:\n",
    "                    print(i,end=\"\")\n",
    "        elif(c==2):\n",
    "            with open(\"saloni-food.txt\") as f:\n",
    "                for i in f:\n",
    "                    print(i, end=\"\")\n",
    "    elif(x==2):\n",
    "        c = int(input(\"Enter 1 for exercise and 2 for food\"))\n",
    "        if (c == 1):\n",
    "            with open(\"niharika-ex.txt\") as f:\n",
    "                for i in f:\n",
    "                    print(i, end=\"\")\n",
    "        elif (c == 2):\n",
    "            with open(\"niharika-food.txt\") as f:\n",
    "                for i in f:\n",
    "                    print(i, end=\"\")\n",
    "    elif(x==3):\n",
    "        c = int(input(\"Enter 1 for exercise and 2 for food\"))\n",
    "        if (c == 1):\n",
    "            with open(\"kirti-ex.txt\") as f:\n",
    "                for i in f:\n",
    "                    print(i, end=\"\")\n",
    "        elif (c == 2):\n",
    "            with open(\"kirti-food.txt\") as f:\n",
    "                for i in f:\n",
    "                    print(i, end=\"\")\n",
    "    else:\n",
    "        print(\"plz enter valid input (1(saloni),2(Niharika),3(Kirti))\")\n",
    "print(\"Welcome to Agrawal's Health Management System: \")\n",
    "print(\"***********************************************\\n\\n\")\n",
    "a=int(input(\"Press 1 for logging and 2 for retrieving \"))\n",
    "\n",
    "if a==1:\n",
    "    b = int(input(\"Press 1 for Saloni 2 for Niharika 3 for Kirti \"))\n",
    "    print(\"***********************************************\\n\")\n",
    "    log(b)\n",
    "else:\n",
    "    b = int(input(\"Press 1 for Saloni 2 for Niharika 3 for Kirti\"))\n",
    "    print(\"***********************************************\\n\")\n",
    "    retrieve(b)\n",
    "  "
   ]
  },
  {
   "cell_type": "code",
   "execution_count": null,
   "metadata": {},
   "outputs": [],
   "source": []
  },
  {
   "cell_type": "code",
   "execution_count": null,
   "metadata": {},
   "outputs": [],
   "source": []
  },
  {
   "cell_type": "code",
   "execution_count": null,
   "metadata": {},
   "outputs": [],
   "source": []
  },
  {
   "cell_type": "code",
   "execution_count": null,
   "metadata": {},
   "outputs": [],
   "source": []
  },
  {
   "cell_type": "code",
   "execution_count": null,
   "metadata": {},
   "outputs": [],
   "source": []
  },
  {
   "cell_type": "code",
   "execution_count": null,
   "metadata": {},
   "outputs": [],
   "source": []
  },
  {
   "cell_type": "code",
   "execution_count": null,
   "metadata": {},
   "outputs": [],
   "source": []
  }
 ],
 "metadata": {
  "kernelspec": {
   "display_name": "Python 3",
   "language": "python",
   "name": "python3"
  },
  "language_info": {
   "codemirror_mode": {
    "name": "ipython",
    "version": 3
   },
   "file_extension": ".py",
   "mimetype": "text/x-python",
   "name": "python",
   "nbconvert_exporter": "python",
   "pygments_lexer": "ipython3",
   "version": "3.7.3"
  }
 },
 "nbformat": 4,
 "nbformat_minor": 4
}
